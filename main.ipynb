{
 "cells": [
  {
   "cell_type": "code",
   "execution_count": null,
   "metadata": {},
   "outputs": [],
   "source": [
    "from scipy import integrate\n",
    "\n",
    "# Example of numerical integration using quad\n",
    "result, error = integrate.quad(lambda x: x**2, 0, 1)\n",
    "print(result)"
   ]
  },
  {
   "attachments": {},
   "cell_type": "markdown",
   "metadata": {},
   "source": [
    "Numerical Integration (scipy.integrate)"
   ]
  },
  {
   "cell_type": "code",
   "execution_count": null,
   "metadata": {},
   "outputs": [],
   "source": [
    "from scipy.optimize import minimize\n",
    "\n",
    "# Example of unconstrained optimization\n",
    "result = minimize(lambda x: (x[0] - 2)**2 + (x[1] - 3)**2, [0, 0], method='BFGS')\n",
    "print(result.x)"
   ]
  },
  {
   "attachments": {},
   "cell_type": "markdown",
   "metadata": {},
   "source": [
    "Unconstrained Optimization (scipy.optimize)"
   ]
  },
  {
   "cell_type": "code",
   "execution_count": null,
   "metadata": {},
   "outputs": [],
   "source": [
    "from scipy.linalg import solve, eig\n",
    "\n",
    "# Example of solving a linear system\n",
    "A = [[1, 2], [3, 4]]\n",
    "b = [5, 6]\n",
    "x = solve(A, b)\n",
    "print(x)\n",
    "\n",
    "# Example of eigenvalues and eigenvectors\n",
    "eigenvalues, eigenvectors = eig(A)\n",
    "print(eigenvalues)\n",
    "print(eigenvectors)"
   ]
  },
  {
   "attachments": {},
   "cell_type": "markdown",
   "metadata": {},
   "source": [
    "Linear Algebra (scipy.linalg)"
   ]
  },
  {
   "cell_type": "code",
   "execution_count": null,
   "metadata": {},
   "outputs": [],
   "source": [
    "from scipy.signal import convolve, spectrogram\n",
    "import numpy as np\n",
    "import matplotlib.pyplot as plt\n",
    "\n",
    "# Example of convolving signals\n",
    "signal = np.array([1, 2, 1])\n",
    "kernel = np.array([1, 0, -1])\n",
    "result = convolve(signal, kernel, mode='valid')\n",
    "print(result)\n",
    "\n",
    "# Example of spectrogram\n",
    "fs = 1000  # Sampling frequency\n",
    "t = np.linspace(0, 1, fs, endpoint=False)  # Time vector\n",
    "x = np.sin(2 * np.pi * 100 * t) + 0.5 * np.random.randn(fs)  # Signal with noise\n",
    "f, t, Sxx = spectrogram(x, fs)\n",
    "plt.pcolormesh(t, f, 10 * np.log10(Sxx))\n",
    "plt.ylabel('Frequency [Hz]')\n",
    "plt.xlabel('Time [sec]')\n",
    "plt.show()"
   ]
  },
  {
   "attachments": {},
   "cell_type": "markdown",
   "metadata": {},
   "source": [
    "Signal Processing (scipy.signal)"
   ]
  }
 ],
 "metadata": {
  "language_info": {
   "name": "python"
  },
  "orig_nbformat": 4
 },
 "nbformat": 4,
 "nbformat_minor": 2
}
